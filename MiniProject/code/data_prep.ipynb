{
 "cells": [
  {
   "cell_type": "code",
   "execution_count": 168,
   "id": "8cdf8cc5",
   "metadata": {},
   "outputs": [],
   "source": [
    "import pandas as pd"
   ]
  },
  {
   "cell_type": "code",
   "execution_count": 169,
   "id": "d42fc089",
   "metadata": {},
   "outputs": [
    {
     "name": "stdout",
     "output_type": "stream",
     "text": [
      "Loaded 10 columns.\n"
     ]
    }
   ],
   "source": [
    "data = pd.read_csv(\"../data/LogisticGrowthData.csv\")\n",
    "print(\"Loaded {} columns.\".format(len(data.columns.values)))"
   ]
  },
  {
   "cell_type": "code",
   "execution_count": 170,
   "id": "b3f3c4e4",
   "metadata": {
    "scrolled": true
   },
   "outputs": [
    {
     "name": "stdout",
     "output_type": "stream",
     "text": [
      "['X' 'Time' 'PopBio' 'Temp' 'Time_units' 'PopBio_units' 'Species' 'Medium'\n",
      " 'Rep' 'Citation']\n"
     ]
    }
   ],
   "source": [
    "print(data.columns.values)"
   ]
  },
  {
   "cell_type": "code",
   "execution_count": 171,
   "id": "4884c3bd",
   "metadata": {
    "scrolled": true
   },
   "outputs": [
    {
     "data": {
      "text/html": [
       "<div>\n",
       "<style scoped>\n",
       "    .dataframe tbody tr th:only-of-type {\n",
       "        vertical-align: middle;\n",
       "    }\n",
       "\n",
       "    .dataframe tbody tr th {\n",
       "        vertical-align: top;\n",
       "    }\n",
       "\n",
       "    .dataframe thead th {\n",
       "        text-align: right;\n",
       "    }\n",
       "</style>\n",
       "<table border=\"1\" class=\"dataframe\">\n",
       "  <thead>\n",
       "    <tr style=\"text-align: right;\">\n",
       "      <th></th>\n",
       "      <th>Time</th>\n",
       "      <th>Time at which measurement was taken.</th>\n",
       "    </tr>\n",
       "  </thead>\n",
       "  <tbody>\n",
       "    <tr>\n",
       "      <th>0</th>\n",
       "      <td>PopBio</td>\n",
       "      <td>Population or biomass measurement.</td>\n",
       "    </tr>\n",
       "    <tr>\n",
       "      <th>1</th>\n",
       "      <td>Temp</td>\n",
       "      <td>Temperature at which the microbe was grown (de...</td>\n",
       "    </tr>\n",
       "    <tr>\n",
       "      <th>2</th>\n",
       "      <td>Time_units</td>\n",
       "      <td>Units time is measured in.</td>\n",
       "    </tr>\n",
       "    <tr>\n",
       "      <th>3</th>\n",
       "      <td>PopBio_units</td>\n",
       "      <td>Units population or biomass are measured in.</td>\n",
       "    </tr>\n",
       "    <tr>\n",
       "      <th>4</th>\n",
       "      <td>Species</td>\n",
       "      <td>Species or strain used.</td>\n",
       "    </tr>\n",
       "    <tr>\n",
       "      <th>5</th>\n",
       "      <td>Medium</td>\n",
       "      <td>Medium the microbe was grown in.</td>\n",
       "    </tr>\n",
       "    <tr>\n",
       "      <th>6</th>\n",
       "      <td>Rep</td>\n",
       "      <td>Replicate within the experiment.</td>\n",
       "    </tr>\n",
       "    <tr>\n",
       "      <th>7</th>\n",
       "      <td>Citation</td>\n",
       "      <td>Citation for the paper in which the study was...</td>\n",
       "    </tr>\n",
       "  </tbody>\n",
       "</table>\n",
       "</div>"
      ],
      "text/plain": [
       "           Time               Time at which measurement was taken.\n",
       "0        PopBio                 Population or biomass measurement.\n",
       "1          Temp  Temperature at which the microbe was grown (de...\n",
       "2    Time_units                         Units time is measured in.\n",
       "3  PopBio_units       Units population or biomass are measured in.\n",
       "4       Species                            Species or strain used.\n",
       "5        Medium                   Medium the microbe was grown in.\n",
       "6           Rep                   Replicate within the experiment.\n",
       "7      Citation   Citation for the paper in which the study was..."
      ]
     },
     "execution_count": 171,
     "metadata": {},
     "output_type": "execute_result"
    }
   ],
   "source": [
    "pd.read_csv(\"../data/LogisticGrowthMetaData.csv\")"
   ]
  },
  {
   "cell_type": "code",
   "execution_count": 173,
   "id": "2799d200",
   "metadata": {},
   "outputs": [],
   "source": [
    "data.insert(0, \"ID\", data.Species + \"_\" + data.Temp.map(str) + \"_\" + data.Medium + \"_\" + data.Citation)"
   ]
  },
  {
   "cell_type": "code",
   "execution_count": 183,
   "id": "c362bdda",
   "metadata": {
    "scrolled": false
   },
   "outputs": [
    {
     "data": {
      "text/plain": [
       "285"
      ]
     },
     "execution_count": 183,
     "metadata": {},
     "output_type": "execute_result"
    }
   ],
   "source": [
    "len(data.ID.unique())"
   ]
  },
  {
   "cell_type": "code",
   "execution_count": 184,
   "id": "f6fa599f",
   "metadata": {},
   "outputs": [],
   "source": [
    "pt = data[[\"ID\",\"Time\",\"PopBio\"]]"
   ]
  },
  {
   "cell_type": "code",
   "execution_count": 185,
   "id": "5e48923d",
   "metadata": {},
   "outputs": [],
   "source": [
    "import numpy as np"
   ]
  },
  {
   "cell_type": "code",
   "execution_count": 186,
   "id": "7aa8bef4",
   "metadata": {},
   "outputs": [
    {
     "name": "stderr",
     "output_type": "stream",
     "text": [
      "/tmp/ipykernel_68652/3574439206.py:1: SettingWithCopyWarning: \n",
      "A value is trying to be set on a copy of a slice from a DataFrame.\n",
      "Try using .loc[row_indexer,col_indexer] = value instead\n",
      "\n",
      "See the caveats in the documentation: https://pandas.pydata.org/pandas-docs/stable/user_guide/indexing.html#returning-a-view-versus-a-copy\n",
      "  pt['ID'] = pd.factorize(pt.ID)[0]\n"
     ]
    }
   ],
   "source": [
    "pt['ID'] = pd.factorize(pt.ID)[0]"
   ]
  },
  {
   "cell_type": "code",
   "execution_count": 187,
   "id": "2403e1ed",
   "metadata": {
    "scrolled": false
   },
   "outputs": [
    {
     "data": {
      "text/plain": [
       "ID        0\n",
       "Time      0\n",
       "PopBio    0\n",
       "dtype: int64"
      ]
     },
     "execution_count": 187,
     "metadata": {},
     "output_type": "execute_result"
    }
   ],
   "source": [
    "pt = pt[pt['Time']  > 0 ]\n",
    "pt = pt[pt['PopBio']  > 0 ]\n",
    "pt = pt.groupby(['ID']).filter(lambda x: len(x) > 4)\n",
    "(pt<0).sum()"
   ]
  },
  {
   "cell_type": "code",
   "execution_count": 188,
   "id": "83a0cef8",
   "metadata": {},
   "outputs": [],
   "source": [
    "pt['Log_PopBio'] = np.log(pt['PopBio'])"
   ]
  },
  {
   "cell_type": "code",
   "execution_count": 189,
   "id": "836a4fed",
   "metadata": {},
   "outputs": [
    {
     "data": {
      "text/html": [
       "<div>\n",
       "<style scoped>\n",
       "    .dataframe tbody tr th:only-of-type {\n",
       "        vertical-align: middle;\n",
       "    }\n",
       "\n",
       "    .dataframe tbody tr th {\n",
       "        vertical-align: top;\n",
       "    }\n",
       "\n",
       "    .dataframe thead th {\n",
       "        text-align: right;\n",
       "    }\n",
       "</style>\n",
       "<table border=\"1\" class=\"dataframe\">\n",
       "  <thead>\n",
       "    <tr style=\"text-align: right;\">\n",
       "      <th></th>\n",
       "      <th>ID</th>\n",
       "      <th>Time</th>\n",
       "      <th>PopBio</th>\n",
       "      <th>Log_PopBio</th>\n",
       "    </tr>\n",
       "  </thead>\n",
       "  <tbody>\n",
       "    <tr>\n",
       "      <th>0</th>\n",
       "      <td>0</td>\n",
       "      <td>669.879518</td>\n",
       "      <td>0.283276</td>\n",
       "      <td>-1.261335</td>\n",
       "    </tr>\n",
       "    <tr>\n",
       "      <th>1</th>\n",
       "      <td>0</td>\n",
       "      <td>646.987952</td>\n",
       "      <td>0.283342</td>\n",
       "      <td>-1.261100</td>\n",
       "    </tr>\n",
       "    <tr>\n",
       "      <th>2</th>\n",
       "      <td>0</td>\n",
       "      <td>622.891566</td>\n",
       "      <td>0.285151</td>\n",
       "      <td>-1.254736</td>\n",
       "    </tr>\n",
       "    <tr>\n",
       "      <th>3</th>\n",
       "      <td>0</td>\n",
       "      <td>597.590361</td>\n",
       "      <td>0.281746</td>\n",
       "      <td>-1.266749</td>\n",
       "    </tr>\n",
       "    <tr>\n",
       "      <th>4</th>\n",
       "      <td>0</td>\n",
       "      <td>574.698795</td>\n",
       "      <td>0.273117</td>\n",
       "      <td>-1.297856</td>\n",
       "    </tr>\n",
       "    <tr>\n",
       "      <th>...</th>\n",
       "      <td>...</td>\n",
       "      <td>...</td>\n",
       "      <td>...</td>\n",
       "      <td>...</td>\n",
       "    </tr>\n",
       "    <tr>\n",
       "      <th>4382</th>\n",
       "      <td>284</td>\n",
       "      <td>0.057355</td>\n",
       "      <td>2.447187</td>\n",
       "      <td>0.894939</td>\n",
       "    </tr>\n",
       "    <tr>\n",
       "      <th>4383</th>\n",
       "      <td>284</td>\n",
       "      <td>2.492604</td>\n",
       "      <td>2.327517</td>\n",
       "      <td>0.844802</td>\n",
       "    </tr>\n",
       "    <tr>\n",
       "      <th>4384</th>\n",
       "      <td>284</td>\n",
       "      <td>1.743012</td>\n",
       "      <td>2.485061</td>\n",
       "      <td>0.910297</td>\n",
       "    </tr>\n",
       "    <tr>\n",
       "      <th>4385</th>\n",
       "      <td>284</td>\n",
       "      <td>0.994529</td>\n",
       "      <td>2.182619</td>\n",
       "      <td>0.780526</td>\n",
       "    </tr>\n",
       "    <tr>\n",
       "      <th>4386</th>\n",
       "      <td>284</td>\n",
       "      <td>2.241570</td>\n",
       "      <td>2.923404</td>\n",
       "      <td>1.072749</td>\n",
       "    </tr>\n",
       "  </tbody>\n",
       "</table>\n",
       "<p>4235 rows × 4 columns</p>\n",
       "</div>"
      ],
      "text/plain": [
       "       ID        Time    PopBio  Log_PopBio\n",
       "0       0  669.879518  0.283276   -1.261335\n",
       "1       0  646.987952  0.283342   -1.261100\n",
       "2       0  622.891566  0.285151   -1.254736\n",
       "3       0  597.590361  0.281746   -1.266749\n",
       "4       0  574.698795  0.273117   -1.297856\n",
       "...   ...         ...       ...         ...\n",
       "4382  284    0.057355  2.447187    0.894939\n",
       "4383  284    2.492604  2.327517    0.844802\n",
       "4384  284    1.743012  2.485061    0.910297\n",
       "4385  284    0.994529  2.182619    0.780526\n",
       "4386  284    2.241570  2.923404    1.072749\n",
       "\n",
       "[4235 rows x 4 columns]"
      ]
     },
     "execution_count": 189,
     "metadata": {},
     "output_type": "execute_result"
    }
   ],
   "source": [
    "pt"
   ]
  },
  {
   "cell_type": "code",
   "execution_count": 190,
   "id": "1f477bbd",
   "metadata": {},
   "outputs": [],
   "source": [
    "pt.to_csv('../data/test_data.csv') "
   ]
  }
 ],
 "metadata": {
  "kernelspec": {
   "display_name": "Python 3 (ipykernel)",
   "language": "python",
   "name": "python3"
  },
  "language_info": {
   "codemirror_mode": {
    "name": "ipython",
    "version": 3
   },
   "file_extension": ".py",
   "mimetype": "text/x-python",
   "name": "python",
   "nbconvert_exporter": "python",
   "pygments_lexer": "ipython3",
   "version": "3.8.10"
  },
  "latex_envs": {
   "LaTeX_envs_menu_present": true,
   "autoclose": false,
   "autocomplete": true,
   "bibliofile": "biblio.bib",
   "cite_by": "apalike",
   "current_citInitial": 1,
   "eqLabelWithNumbers": true,
   "eqNumInitial": 1,
   "hotkeys": {
    "equation": "Ctrl-E",
    "itemize": "Ctrl-I"
   },
   "labels_anchors": false,
   "latex_user_defs": false,
   "report_style_numbering": false,
   "user_envs_cfg": false
  }
 },
 "nbformat": 4,
 "nbformat_minor": 5
}
