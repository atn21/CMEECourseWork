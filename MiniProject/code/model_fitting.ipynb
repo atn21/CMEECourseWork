{
 "cells": [
  {
   "cell_type": "code",
   "execution_count": 132,
   "id": "68a9c34d",
   "metadata": {},
   "outputs": [],
   "source": [
    "df <- read.csv(\"../data/test_data.csv\")"
   ]
  },
  {
   "cell_type": "code",
   "execution_count": 88,
   "id": "60b53479",
   "metadata": {},
   "outputs": [
    {
     "name": "stderr",
     "output_type": "stream",
     "text": [
      "Loading required package: tidyverse\n",
      "\n",
      "── \u001b[1mAttaching packages\u001b[22m ─────────────────────────────────────── tidyverse 1.3.1 ──\n",
      "\n",
      "\u001b[32m✔\u001b[39m \u001b[34mtibble \u001b[39m 3.1.5     \u001b[32m✔\u001b[39m \u001b[34mdplyr  \u001b[39m 1.0.7\n",
      "\u001b[32m✔\u001b[39m \u001b[34mtidyr  \u001b[39m 1.1.4     \u001b[32m✔\u001b[39m \u001b[34mstringr\u001b[39m 1.4.0\n",
      "\u001b[32m✔\u001b[39m \u001b[34mreadr  \u001b[39m 2.0.2     \u001b[32m✔\u001b[39m \u001b[34mforcats\u001b[39m 0.5.1\n",
      "\u001b[32m✔\u001b[39m \u001b[34mpurrr  \u001b[39m 0.3.4     \n",
      "\n",
      "── \u001b[1mConflicts\u001b[22m ────────────────────────────────────────── tidyverse_conflicts() ──\n",
      "\u001b[31m✖\u001b[39m \u001b[34mdplyr\u001b[39m::\u001b[32marrange()\u001b[39m   masks \u001b[34mplyr\u001b[39m::arrange()\n",
      "\u001b[31m✖\u001b[39m \u001b[34mpurrr\u001b[39m::\u001b[32mcompact()\u001b[39m   masks \u001b[34mplyr\u001b[39m::compact()\n",
      "\u001b[31m✖\u001b[39m \u001b[34mdplyr\u001b[39m::\u001b[32mcount()\u001b[39m     masks \u001b[34mplyr\u001b[39m::count()\n",
      "\u001b[31m✖\u001b[39m \u001b[34mdplyr\u001b[39m::\u001b[32mfailwith()\u001b[39m  masks \u001b[34mplyr\u001b[39m::failwith()\n",
      "\u001b[31m✖\u001b[39m \u001b[34mdplyr\u001b[39m::\u001b[32mfilter()\u001b[39m    masks \u001b[34mstats\u001b[39m::filter()\n",
      "\u001b[31m✖\u001b[39m \u001b[34mdplyr\u001b[39m::\u001b[32mid()\u001b[39m        masks \u001b[34mplyr\u001b[39m::id()\n",
      "\u001b[31m✖\u001b[39m \u001b[34mdplyr\u001b[39m::\u001b[32mlag()\u001b[39m       masks \u001b[34mstats\u001b[39m::lag()\n",
      "\u001b[31m✖\u001b[39m \u001b[34mdplyr\u001b[39m::\u001b[32mmutate()\u001b[39m    masks \u001b[34mplyr\u001b[39m::mutate()\n",
      "\u001b[31m✖\u001b[39m \u001b[34mdplyr\u001b[39m::\u001b[32mrename()\u001b[39m    masks \u001b[34mplyr\u001b[39m::rename()\n",
      "\u001b[31m✖\u001b[39m \u001b[34mdplyr\u001b[39m::\u001b[32msummarise()\u001b[39m masks \u001b[34mplyr\u001b[39m::summarise()\n",
      "\u001b[31m✖\u001b[39m \u001b[34mdplyr\u001b[39m::\u001b[32msummarize()\u001b[39m masks \u001b[34mplyr\u001b[39m::summarize()\n",
      "\n"
     ]
    }
   ],
   "source": [
    "require(ggplot2)\n",
    "require(minpack.lm)\n",
    "require(tidyverse)"
   ]
  },
  {
   "cell_type": "code",
   "execution_count": 52,
   "id": "c43499dc",
   "metadata": {},
   "outputs": [
    {
     "ename": "ERROR",
     "evalue": "Error in title(main = t): plot.new has not been called yet\n",
     "output_type": "error",
     "traceback": [
      "Error in title(main = t): plot.new has not been called yet\nTraceback:\n",
      "1. title(main = t)"
     ]
    }
   ],
   "source": [
    "library(zoo)\n",
    "for (t in unique(mydf$ID)) {\n",
    "  d<-subset(mydf, ID==t)\n",
    "  title(main = t)\n",
    "  nr <- nrow(BOD)\n",
    "  reg <- function(ix) coef(lm(mydf$Log_PopBio ~ mydf$Time, BOD, subset = ix))\n",
    "  rollapplyr(1:nr, 3, reg, fill = NA)\n",
    "}\n",
    "dev.off()"
   ]
  },
  {
   "cell_type": "code",
   "execution_count": 53,
   "id": "918d82d9",
   "metadata": {},
   "outputs": [],
   "source": [
    "logistic_model <- function(t, r_max, K, N_0){ # The classic logistic equation\n",
    " return(N_0 * K * exp(r_max * t)/(K + N_0 * (exp(r_max * t) - 1)))\n",
    "}"
   ]
  },
  {
   "cell_type": "code",
   "execution_count": 54,
   "id": "5f872fd1",
   "metadata": {},
   "outputs": [],
   "source": [
    "gompertz_model <- function(t, r_max, K, N_0, t_lag){ # Modified gompertz growth model (Zwietering 1990)\n",
    " return(N_0 + (K - N_0) * exp(-exp(r_max * exp(1) * (t_lag - t)/((K - N_0) * log(10)) + 1)))\n",
    "}   "
   ]
  },
  {
   "cell_type": "code",
   "execution_count": 49,
   "id": "3665ee62",
   "metadata": {},
   "outputs": [],
   "source": [
    "baranyi_model <- function(t, r_max, K, N_0, t_lag){\n",
    " h0 <- r_max * t_lag\n",
    " At <- t + 1/r_max * log(exp(-r_max * t) + exp(-h0) - exp(-rmax * t - h0))\n",
    " Nt <- N_0 + r_max * At - log(1 + (exp(r_max * A) - 1) / exp(K - N_0))\n",
    " return(Nt)\n",
    "}"
   ]
  },
  {
   "cell_type": "code",
   "execution_count": 95,
   "id": "6b9b09c6",
   "metadata": {},
   "outputs": [],
   "source": [
    "start_values <- function(x)\n",
    "  N_0_start = min(d$Log_PopBio) # lowest population size, note log scale\n",
    "    K_start = max(d$Log_PopBio) # highest population size, note log scale\n",
    "    t_lag_start = d$Time[which.max(diff(diff(d$Log_PopBio)))] # find last timepoint of lag phase\n",
    "    r_max = max(diff(d$Log_PopBio)/diff(d$Time))\n",
    "    }\n"
   ]
  },
  {
   "cell_type": "code",
   "execution_count": 97,
   "id": "9e8cb1ba",
   "metadata": {},
   "outputs": [
    {
     "data": {
      "text/html": [
       "0.780525649827437"
      ],
      "text/latex": [
       "0.780525649827437"
      ],
      "text/markdown": [
       "0.780525649827437"
      ],
      "text/plain": [
       "[1] 0.7805256"
      ]
     },
     "metadata": {},
     "output_type": "display_data"
    }
   ],
   "source": [
    "N_0_start"
   ]
  },
  {
   "cell_type": "code",
   "execution_count": 173,
   "id": "85795281",
   "metadata": {},
   "outputs": [
    {
     "ename": "ERROR",
     "evalue": "Error in data.frame(..., check.names = FALSE): arguments imply differing number of rows: 0, 1\n",
     "output_type": "error",
     "traceback": [
      "Error in data.frame(..., check.names = FALSE): arguments imply differing number of rows: 0, 1\nTraceback:\n",
      "1. cbind(df_total, ini_values)",
      "2. cbind(deparse.level, ...)",
      "3. data.frame(..., check.names = FALSE)",
      "4. stop(gettextf(\"arguments imply differing number of rows: %s\", \n .     paste(unique(nrows), collapse = \", \")), domain = NA)"
     ]
    }
   ],
   "source": [
    "df_total = data.frame()\n",
    "for (t in unique(df$ID)) {\n",
    "  d<-subset(df, ID==t)\n",
    "  ini_values <- data.frame(t, N_0_start = min(d$Log_PopBio), # lowest population size, note log scale\n",
    "  K_start = max(d$Log_PopBio), # highest population size, note log scale\n",
    "  t_lag_start = d$Time[which.max(diff(diff(d$Log_PopBio)))], # find last timepoint of lag phase\n",
    "  r_max = summary(lm(Log_PopBio ~ Time, d))$coeff[2])\n",
    "  df_total <-  cbind(df_total,ini_values)\n",
    "}"
   ]
  },
  {
   "cell_type": "code",
   "execution_count": 172,
   "id": "2c37dc08",
   "metadata": {
    "scrolled": true
   },
   "outputs": [
    {
     "data": {
      "text/html": [
       "<table class=\"dataframe\">\n",
       "<caption>A data.frame: 1 × 5</caption>\n",
       "<thead>\n",
       "\t<tr><th scope=col>t</th><th scope=col>N_0_start</th><th scope=col>K_start</th><th scope=col>t_lag_start</th><th scope=col>r_max</th></tr>\n",
       "\t<tr><th scope=col>&lt;int&gt;</th><th scope=col>&lt;dbl&gt;</th><th scope=col>&lt;dbl&gt;</th><th scope=col>&lt;dbl&gt;</th><th scope=col>&lt;dbl&gt;</th></tr>\n",
       "</thead>\n",
       "<tbody>\n",
       "\t<tr><td>285</td><td>0.7805256</td><td>10.2092</td><td>7.971566</td><td>0.2097731</td></tr>\n",
       "</tbody>\n",
       "</table>\n"
      ],
      "text/latex": [
       "A data.frame: 1 × 5\n",
       "\\begin{tabular}{lllll}\n",
       " t & N\\_0\\_start & K\\_start & t\\_lag\\_start & r\\_max\\\\\n",
       " <int> & <dbl> & <dbl> & <dbl> & <dbl>\\\\\n",
       "\\hline\n",
       "\t 285 & 0.7805256 & 10.2092 & 7.971566 & 0.2097731\\\\\n",
       "\\end{tabular}\n"
      ],
      "text/markdown": [
       "\n",
       "A data.frame: 1 × 5\n",
       "\n",
       "| t &lt;int&gt; | N_0_start &lt;dbl&gt; | K_start &lt;dbl&gt; | t_lag_start &lt;dbl&gt; | r_max &lt;dbl&gt; |\n",
       "|---|---|---|---|---|\n",
       "| 285 | 0.7805256 | 10.2092 | 7.971566 | 0.2097731 |\n",
       "\n"
      ],
      "text/plain": [
       "  t   N_0_start K_start t_lag_start r_max    \n",
       "1 285 0.7805256 10.2092 7.971566    0.2097731"
      ]
     },
     "metadata": {},
     "output_type": "display_data"
    }
   ],
   "source": [
    "ini_values"
   ]
  },
  {
   "cell_type": "code",
   "execution_count": 127,
   "id": "595ff2be",
   "metadata": {},
   "outputs": [],
   "source": [
    "j <- which.max(diff(dfSubset$Log_PopBio))"
   ]
  },
  {
   "cell_type": "code",
   "execution_count": 129,
   "id": "8447c42a",
   "metadata": {},
   "outputs": [
    {
     "data": {
      "text/html": [
       "15.0166709254749"
      ],
      "text/latex": [
       "15.0166709254749"
      ],
      "text/markdown": [
       "15.0166709254749"
      ],
      "text/plain": [
       "[1] 15.01667"
      ]
     },
     "metadata": {},
     "output_type": "display_data"
    }
   ],
   "source": [
    "dfSubset[j+1,\"Time\"]-dfSubset[j,\"Time\"]"
   ]
  },
  {
   "cell_type": "code",
   "execution_count": 133,
   "id": "6d3f31e7",
   "metadata": {},
   "outputs": [],
   "source": [
    "subtest <- subset(df, ID == 1)"
   ]
  },
  {
   "cell_type": "code",
   "execution_count": 157,
   "id": "ac022097",
   "metadata": {},
   "outputs": [],
   "source": [
    "te <- summary(lm(Log_PopBio ~ Time, subtest))$coeff[2]\n"
   ]
  },
  {
   "cell_type": "code",
   "execution_count": 158,
   "id": "c9a98345",
   "metadata": {},
   "outputs": [
    {
     "data": {
      "text/html": [
       "0.00382713661754136"
      ],
      "text/latex": [
       "0.00382713661754136"
      ],
      "text/markdown": [
       "0.00382713661754136"
      ],
      "text/plain": [
       "[1] 0.003827137"
      ]
     },
     "metadata": {},
     "output_type": "display_data"
    }
   ],
   "source": [
    "te"
   ]
  },
  {
   "cell_type": "code",
   "execution_count": 153,
   "id": "1bc5e5c9",
   "metadata": {},
   "outputs": [],
   "source": [
    "r_max = max(abs(diff(subtest$Log_PopBio/subtest$Time)))"
   ]
  },
  {
   "cell_type": "code",
   "execution_count": 154,
   "id": "7587e4e4",
   "metadata": {},
   "outputs": [
    {
     "data": {
      "text/html": [
       "0.123259269640883"
      ],
      "text/latex": [
       "0.123259269640883"
      ],
      "text/markdown": [
       "0.123259269640883"
      ],
      "text/plain": [
       "[1] 0.1232593"
      ]
     },
     "metadata": {},
     "output_type": "display_data"
    }
   ],
   "source": [
    "r_max"
   ]
  },
  {
   "cell_type": "code",
   "execution_count": 149,
   "id": "2da245ee",
   "metadata": {},
   "outputs": [],
   "source": [
    "j <- which.max(diff(subtest$Log_PopBio))\n",
    "ini_rmax <- max(diff(subtest$Log_PopBio))/(subtest[j+1,\"Time\"]-subtest[j,\"Time\"])"
   ]
  },
  {
   "cell_type": "code",
   "execution_count": 150,
   "id": "31536244",
   "metadata": {},
   "outputs": [
    {
     "data": {
      "text/html": [
       "0.00329385992531807"
      ],
      "text/latex": [
       "0.00329385992531807"
      ],
      "text/markdown": [
       "0.00329385992531807"
      ],
      "text/plain": [
       "[1] 0.00329386"
      ]
     },
     "metadata": {},
     "output_type": "display_data"
    }
   ],
   "source": [
    "ini_rmax"
   ]
  },
  {
   "cell_type": "code",
   "execution_count": null,
   "id": "70bd136c",
   "metadata": {},
   "outputs": [],
   "source": []
  }
 ],
 "metadata": {
  "kernelspec": {
   "display_name": "R",
   "language": "R",
   "name": "ir"
  },
  "language_info": {
   "codemirror_mode": "r",
   "file_extension": ".r",
   "mimetype": "text/x-r-source",
   "name": "R",
   "pygments_lexer": "r",
   "version": "4.1.2"
  },
  "latex_envs": {
   "LaTeX_envs_menu_present": true,
   "autoclose": false,
   "autocomplete": true,
   "bibliofile": "biblio.bib",
   "cite_by": "apalike",
   "current_citInitial": 1,
   "eqLabelWithNumbers": true,
   "eqNumInitial": 1,
   "hotkeys": {
    "equation": "Ctrl-E",
    "itemize": "Ctrl-I"
   },
   "labels_anchors": false,
   "latex_user_defs": false,
   "report_style_numbering": false,
   "user_envs_cfg": false
  }
 },
 "nbformat": 4,
 "nbformat_minor": 5
}
